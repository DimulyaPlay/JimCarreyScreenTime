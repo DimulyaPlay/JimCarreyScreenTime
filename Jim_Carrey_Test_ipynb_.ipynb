{
  "nbformat": 4,
  "nbformat_minor": 0,
  "metadata": {
    "colab": {
      "name": "Jim Carrey Test.ipynb\"",
      "provenance": [],
      "collapsed_sections": []
    },
    "kernelspec": {
      "name": "python3",
      "display_name": "Python 3"
    },
    "language_info": {
      "name": "python"
    },
    "accelerator": "GPU"
  },
  "cells": [
    {
      "cell_type": "markdown",
      "metadata": {
        "id": "gDerOjTVhqWc"
      },
      "source": [
        "\n",
        "Ссылка на модель и веса: https://drive.google.com/drive/folders/1ex_av6ClcWs-SmaPwM_ROj2aiRWxu6Dj?usp=sharing\n",
        "\n",
        "Ссылка на базу: https://drive.google.com/file/d/1MQ36P2OpQDoO62_nqkk7uuuKlPIcdCd5/view?usp=sharing\n",
        "\n"
      ]
    },
    {
      "cell_type": "code",
      "metadata": {
        "id": "lHocYk25ViFl",
        "cellView": "form",
        "colab": {
          "base_uri": "https://localhost:8080/"
        },
        "outputId": "e7e22890-441d-409f-ec71-fd6f67bdaad5"
      },
      "source": [
        "#@title Подключить диск\n",
        "from google.colab import drive\n",
        "drive.mount('/content/drive')"
      ],
      "execution_count": null,
      "outputs": [
        {
          "output_type": "stream",
          "text": [
            "Mounted at /content/drive\n"
          ],
          "name": "stdout"
        }
      ]
    },
    {
      "cell_type": "code",
      "metadata": {
        "id": "LeddfqRlwAtR",
        "colab": {
          "base_uri": "https://localhost:8080/"
        },
        "cellView": "form",
        "outputId": "b44f630a-1224-4ed7-bb50-ad54278d7ed1"
      },
      "source": [
        "#@title Запуск распознавания. Распознавание 20-минутного видео ~16 минут\n",
        "from tensorflow.keras.models import load_model\n",
        "import os,glob,cv2\n",
        "from IPython.display import clear_output\n",
        "from tqdm import tqdm\n",
        "from natsort import natsorted\n",
        "import numpy as np\n",
        "from moviepy.editor import * \n",
        "\n",
        "modelpath = str(input('Введите путь к сохраненной модели без кавычек'))\n",
        "model = load_model(modelpath)\n",
        "clear_output()\n",
        "\n",
        "files = glob.glob('/content/temp/*')\n",
        "for f in files:\n",
        "  os.remove(f)\n",
        "files = glob.glob('/content/cut/*')\n",
        "for f in files:\n",
        "  os.remove(f)\n",
        "\n",
        "def take_frames_from_video_by_seconds(model, video_path, divide_sec_on):\n",
        "  second = 0 \n",
        "  cap = cv2.VideoCapture(video_path)\n",
        "  frameRate = cap.get(5)/divide_sec_on\n",
        "  image_folder = 'temp'\n",
        "  while cap.isOpened():\n",
        "    frameId = cap.get(1)\n",
        "    ret, frame = cap.read()\n",
        "    if not ret:\n",
        "      break\n",
        "    if frameId%round(frameRate,0)==1:  \n",
        "      filename =f\"{round(second, 1)}.jpg\";second+=(1/round(frameRate,0))\n",
        "      cv2.imwrite(image_folder+'/'+ filename, cv2.resize(frame, (229,229)))\n",
        "  cap.release()\n",
        "  cv2.destroyAllWindows()\n",
        "  return round(frameRate,0)\n",
        "  \n",
        "def predict_from_frames(frameRate, model=model, path='temp'):\n",
        "  counter = 0\n",
        "  predict = []\n",
        "  temp = []\n",
        "  for filename in tqdm(natsorted(os.listdir(path))):\n",
        "\n",
        "      img = cv2.imread(path+'/'+filename)\n",
        "      img = img/255.\n",
        "      pred = model.predict(img[None, :,:,:])\n",
        "      temp.append(np.argmax(pred[0]))\n",
        "      counter+=1\n",
        "      if counter>=frameRate:\n",
        "        predict.append(temp)\n",
        "        temp = []\n",
        "        counter = 0\n",
        "  return np.array(predict)\n",
        "\n",
        "def get_timings_from_predict(predict, frameRate):\n",
        "  seconds = []\n",
        "  for s, pred in enumerate(predict):\n",
        "    if sum(pred)<frameRate*0.6:\n",
        "      seconds.append(s)\n",
        "  return seconds\n",
        "\n",
        "def preprocess_timings(list_of_seconds, bias): # bias - разница между планами. Не разрезать кусок видео, если между от джима до джима промежуток bias секунд(0 - полная нетерпимость к отсутствию джима)\n",
        "  time_list = []\n",
        "  temp = []\n",
        "  for i in range(len(list_of_seconds)-1):\n",
        "    temp.append(list_of_seconds[i])\n",
        "    if list_of_seconds[i+1]-list_of_seconds[i]>bias+1:\n",
        "      time_list.append([temp[0], temp[-1]+1])\n",
        "      temp = []\n",
        "  return time_list\n",
        "\n",
        "def extract_samples(filepath, time_list):\n",
        "  for timings in tqdm(time_list):\n",
        "    clip = VideoFileClip(filepath) \n",
        "    clip = clip.subclip(timings[0], timings[1]) \n",
        "    clip.write_videofile(filename = f\"cut/{timings[0]}.mp4\") \n",
        "    clip.close()\n",
        "\n",
        "def make_one_clip_from_cuts(cutdir=\"cut/\"):\n",
        "  clips =[]\n",
        "  for root, dirs, files in os.walk(cutdir):\n",
        "      files = natsorted(files)\n",
        "      for file in tqdm(files):\n",
        "        filePath = os.path.join(root, file)\n",
        "        video = VideoFileClip(filePath)\n",
        "        clips.append(video)\n",
        "  final_clip = concatenate_videoclips(clips)\n",
        "  final_clip.write_videofile('output.mp4')\n",
        "  files = glob.glob('/content/temp/*')\n",
        "  for f in files:\n",
        "    os.remove(f)\n",
        "  files = glob.glob('/content/cut/*')\n",
        "  for f in files:\n",
        "    os.remove(f)\n",
        "\n",
        "def main(model=model, fps_division = 5, bias = 1):\n",
        "  filepath = str(input(\"Введите путь к видео без кавычек\"))\n",
        "  try: os.mkdir('temp'); os.mkdir('cut')\n",
        "  except Exception:\n",
        "    pass\n",
        "  clear_output()\n",
        "  print('Подготовка к распознаванию')\n",
        "  divided_fps = take_frames_from_video_by_seconds(model, filepath, fps_division)\n",
        "  clear_output()\n",
        "  print('Распознавание')\n",
        "  predict = predict_from_frames(divided_fps)\n",
        "  clear_output()\n",
        "  print('Расчет длительности клипа')\n",
        "  seconds = get_timings_from_predict(predict, divided_fps)\n",
        "  time_list = preprocess_timings(seconds, bias)\n",
        "  clear_output()\n",
        "  print('Нарезка клипов')\n",
        "  extract_samples(filepath, time_list)\n",
        "  clear_output()\n",
        "  print('Склеивание клипов.')\n",
        "  make_one_clip_from_cuts()\n",
        "  print('Расчетное время Джима в кадре:',round(len(seconds)/60,0), \"минут\", len(seconds)%60, 'секунд')\n",
        "\n",
        "main()"
      ],
      "execution_count": null,
      "outputs": [
        {
          "output_type": "stream",
          "text": [
            "\r  0%|          | 0/95 [00:00<?, ?it/s]"
          ],
          "name": "stderr"
        },
        {
          "output_type": "stream",
          "text": [
            "Склеивание клипов.\n"
          ],
          "name": "stdout"
        },
        {
          "output_type": "stream",
          "text": [
            "100%|██████████| 95/95 [00:24<00:00,  3.82it/s]"
          ],
          "name": "stderr"
        },
        {
          "output_type": "stream",
          "text": [
            "[MoviePy] >>>> Building video output.mp4\n",
            "[MoviePy] Writing audio in outputTEMP_MPY_wvf_snd.mp3\n"
          ],
          "name": "stdout"
        },
        {
          "output_type": "stream",
          "text": [
            "\n",
            "100%|██████████| 9924/9924 [00:20<00:00, 478.39it/s]"
          ],
          "name": "stderr"
        },
        {
          "output_type": "stream",
          "text": [
            "[MoviePy] Done.\n",
            "[MoviePy] Writing video output.mp4\n"
          ],
          "name": "stdout"
        },
        {
          "output_type": "stream",
          "text": [
            "\n",
            "100%|██████████| 10791/10791 [03:13<00:00, 55.80it/s]\n"
          ],
          "name": "stderr"
        },
        {
          "output_type": "stream",
          "text": [
            "[MoviePy] Done.\n",
            "[MoviePy] >>>> Video ready: output.mp4 \n",
            "\n",
            "Расчетное время Джима в кадре: 7.0 минут 1 секунд\n"
          ],
          "name": "stdout"
        }
      ]
    }
  ]
}